{
 "cells": [
  {
   "cell_type": "markdown",
   "id": "4bb3ffd1",
   "metadata": {},
   "source": [
    "# EDA on Retail Gold Schema Data\n",
    "\n",
    "**Overview:**  \n",
    "This notebook is focused on performing **Exploratory Data Analysis (EDA)** on the `gold` schema of our dataset. The schema contains both fact and dimension tables that represent sales, stock, customers, staff, products, and stores.  \n",
    "\n",
    "**Schema Summary:**  \n",
    "- **Fact Tables:**  \n",
    "    - `fact_sales`: Contains transactional sales data with details such as quantity, price, discount, and dates.  \n",
    "    - `fact_stocks`: Contains inventory data for stores and products.  \n",
    "\n",
    "- **Dimension Tables:**  \n",
    "    - `dim_customers`: Customer information including name, contact, and address.  \n",
    "    - `dim_staffs`: Staff details including name, store association, and manager.  \n",
    "    - `dim_products`: Product catalog with category, brand, pricing, and model year.  \n",
    "    - `dim_stores`: Store details including address and contact information.  \n",
    "\n",
    "**Objectives:**  \n",
    "1. Connect to SQL Server and load the gold schema data into Python using **pyodbc**.  \n",
    "2. Explore the data to gain **insights and trends**.\n",
    "3. Perform **summary statistics and visualizations** to understand distributions, relationships, and patterns.  \n",
    "4. Create charts and plots to uncover interesting aspects of the business, such as sales per product, store performance, or customer segmentation.  \n",
    "5. Prepare the data for further **analysis and reporting in Power BI**.  \n",
    "\n",
    "**Tools & Libraries:**  \n",
    "- Python (`pandas`, `numpy`)  \n",
    "- SQL connection (`pyodbc`)  \n",
    "- Data visualization (`matplotlib`, `seaborn`)  \n",
    "\n",
    "This notebook will help generate insights from the gold dataset and create a foundation for **Power BI dashboards and reporting**.\n"
   ]
  },
  {
   "cell_type": "markdown",
   "id": "85198128",
   "metadata": {},
   "source": [
    "# Loading Gold Schema Data into Python\n",
    "\n",
    "**Overview:**  \n",
    "We will load data from our SQL Server `gold` schema into Python using `pyodbc`. This will allow us to perform EDA, generate insights, and visualize the data.\n",
    "\n",
    "**Notes:**  \n",
    "- All tables (fact and dimension tables) will be loaded as Pandas DataFrames.  \n",
    "- These DataFrames will be used for charts, aggregations, and other exploratory tasks.  "
   ]
  },
  {
   "cell_type": "code",
   "execution_count": null,
   "id": "6bb58cc1",
   "metadata": {},
   "outputs": [],
   "source": [
    "import pyodbc\n",
    "import pandas as pd\n",
    "\n",
    "# Connection parameters\n",
    "server = 'your_server_name\\SQLEXPRESS'        \n",
    "database = 'DataWarehouse'           \n",
    "\n",
    "\n",
    "# Connection string\n",
    "conn_str = f'DRIVER={{ODBC Driver 17 for SQL Server}};SERVER={server};DATABASE={database};Trusted_Connection=yes;'"
   ]
  },
  {
   "cell_type": "code",
   "execution_count": 13,
   "id": "82af29d3",
   "metadata": {},
   "outputs": [],
   "source": [
    "# Connect\n",
    "conn = pyodbc.connect(conn_str)"
   ]
  },
  {
   "cell_type": "code",
   "execution_count": null,
   "id": "39c57847",
   "metadata": {},
   "outputs": [],
   "source": [
    "# Load all the tables\n",
    "df_customers = pd.read_sql_query('SELECT * FROM gold.dim_customers', conn)\n",
    "df_products  = pd.read_sql_query('SELECT * FROM gold.dim_products', conn)\n",
    "df_staffs    = pd.read_sql_query('SELECT * FROM gold.dim_staffs', conn)\n",
    "df_stores    = pd.read_sql_query('SELECT * FROM gold.dim_stores', conn)\n",
    "df_sales     = pd.read_sql_query('SELECT * FROM gold.fact_sales', conn)\n",
    "df_stocks    = pd.read_sql_query('SELECT * FROM gold.fact_stocks', conn)"
   ]
  },
  {
   "cell_type": "code",
   "execution_count": 16,
   "id": "0b01fd6d",
   "metadata": {},
   "outputs": [
    {
     "name": "stdout",
     "output_type": "stream",
     "text": [
      "dim_customers: (1445, 10)\n",
      "dim_products:  (321, 8)\n",
      "dim_staffs:    (10, 8)\n",
      "dim_stores:    (3, 9)\n",
      "fact_sales:    (4722, 19)\n",
      "fact_stocks:   (939, 4)\n"
     ]
    }
   ],
   "source": [
    "# Printing rows and columns of each DataFrame\n",
    "print(f\"dim_customers: {df_customers.shape}\")\n",
    "print(f\"dim_products:  {df_products.shape}\")\n",
    "print(f\"dim_staffs:    {df_staffs.shape}\")\n",
    "print(f\"dim_stores:    {df_stores.shape}\")\n",
    "print(f\"fact_sales:    {df_sales.shape}\")\n",
    "print(f\"fact_stocks:   {df_stocks.shape}\")"
   ]
  }
 ],
 "metadata": {
  "kernelspec": {
   "display_name": ".venv",
   "language": "python",
   "name": "python3"
  },
  "language_info": {
   "codemirror_mode": {
    "name": "ipython",
    "version": 3
   },
   "file_extension": ".py",
   "mimetype": "text/x-python",
   "name": "python",
   "nbconvert_exporter": "python",
   "pygments_lexer": "ipython3",
   "version": "3.13.7"
  }
 },
 "nbformat": 4,
 "nbformat_minor": 5
}
